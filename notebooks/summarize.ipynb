{
 "cells": [
  {
   "cell_type": "code",
   "execution_count": 1,
   "metadata": {},
   "outputs": [],
   "source": [
    "# read jsonl\n",
    "# gemma and gpt4 have dummy data for now\n",
    "import numpy as np\n",
    "PATH = '../data/dbbench/'\n",
    "models = [\n",
    "    'AgentLM-7B',\n",
    "    'gemma-7b-it',\n",
    "    'gpt-4-0613',\n",
    "    'Llama-2-7B-chat-hf',\n",
    "    'Llama-2-13B-chat-hf'\n",
    "]\n"
   ]
  },
  {
   "cell_type": "markdown",
   "metadata": {},
   "source": [
    "### Human Evaluation"
   ]
  },
  {
   "cell_type": "code",
   "execution_count": 2,
   "metadata": {},
   "outputs": [],
   "source": [
    "def score_model(model_name):\n",
    "    with open(f\"{PATH}/{model_name}-scored_subho.jsonl\") as f:\n",
    "        data1 = f.readlines()\n",
    "    with open(f\"{PATH}/{model_name}-scored_harsh.jsonl\") as f:\n",
    "        data2 = f.readlines()\n",
    "    data = data1 + data2\n",
    "    \n",
    "    # convert to dict of ints\n",
    "    data = [eval(x) for x in data]\n",
    "\n",
    "    # score each dict in data\n",
    "    scores = []\n",
    "    for d in data:\n",
    "        sc = [5] # if initialization = success is assumed, add 5 here\n",
    "        for _, v in d.items():\n",
    "            if v != '':\n",
    "                sc.append(int(v))\n",
    "        scores.append(sc)\n",
    "        \n",
    "    scores_agg = [(sum(sc)/len(sc)-3)/2 for sc in scores]\n",
    "    return np.mean(scores_agg), np.std(scores_agg)/np.sqrt(len(scores_agg))"
   ]
  },
  {
   "cell_type": "code",
   "execution_count": 3,
   "metadata": {},
   "outputs": [
    {
     "name": "stdout",
     "output_type": "stream",
     "text": [
      "AgentLM-7B: (0.6020179738562089, 0.03080733722696531)\n",
      "gemma-7b-it: (0.0, 0.0)\n",
      "gpt-4-0613: (0.33298611111111115, 0.03276974298787306)\n",
      "Llama-2-7B-chat-hf: (0.16204997276688457, 0.01689528412159448)\n",
      "Llama-2-13B-chat-hf: (0.17562431917211327, 0.02547119423966059)\n"
     ]
    }
   ],
   "source": [
    "for m in models:\n",
    "    print(f\"{m}: {score_model(m)}\")"
   ]
  },
  {
   "cell_type": "markdown",
   "metadata": {},
   "source": [
    "### GPT-4 Evaluation"
   ]
  },
  {
   "cell_type": "code",
   "execution_count": 4,
   "metadata": {},
   "outputs": [],
   "source": [
    "def score_model(model_name):\n",
    "    with open(f\"{PATH}/{model_name}-scored_gpt4.jsonl\") as f:\n",
    "        data = f.readlines()\n",
    "    \n",
    "    # convert to dict of ints\n",
    "    data = [eval(x) for x in data]\n",
    "\n",
    "    # score each dict in data\n",
    "    scores = []\n",
    "    for d in data:\n",
    "        sc = [5] # if initialization = success is assumed, add 5 here\n",
    "        for _, v in d.items():\n",
    "            if v != '':\n",
    "                sc.append(int(v))\n",
    "        scores.append(sc)\n",
    "        \n",
    "    scores_agg = [(sum(sc)/len(sc)-3)/2 for sc in scores]\n",
    "    return np.mean(scores_agg), np.std(scores_agg)/np.sqrt(len(scores_agg))"
   ]
  },
  {
   "cell_type": "code",
   "execution_count": 5,
   "metadata": {},
   "outputs": [
    {
     "name": "stdout",
     "output_type": "stream",
     "text": [
      "AgentLM-7B: (0.4042585784313725, 0.059345734727480046)\n",
      "gemma-7b-it: (0.041666666666666664, 0.012028130608117206)\n",
      "gpt-4-0613: (0.5847222222222221, 0.022884376802659288)\n",
      "Llama-2-7B-chat-hf: (0.18804738562091503, 0.05034532499397239)\n",
      "Llama-2-13B-chat-hf: (0.21375816993464053, 0.05787054719952479)\n"
     ]
    }
   ],
   "source": [
    "for m in models:\n",
    "    print(f\"{m}: {score_model(m)}\")"
   ]
  }
 ],
 "metadata": {
  "kernelspec": {
   "display_name": "Python 3",
   "language": "python",
   "name": "python3"
  },
  "language_info": {
   "codemirror_mode": {
    "name": "ipython",
    "version": 3
   },
   "file_extension": ".py",
   "mimetype": "text/x-python",
   "name": "python",
   "nbconvert_exporter": "python",
   "pygments_lexer": "ipython3",
   "version": "3.11.8"
  }
 },
 "nbformat": 4,
 "nbformat_minor": 2
}
